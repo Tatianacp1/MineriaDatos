{
  "nbformat": 4,
  "nbformat_minor": 0,
  "metadata": {
    "colab": {
      "provenance": [],
      "collapsed_sections": [],
      "authorship_tag": "ABX9TyM0NuwPKTAiwBWZKF5jItX/",
      "include_colab_link": true
    },
    "kernelspec": {
      "name": "python3",
      "display_name": "Python 3"
    },
    "language_info": {
      "name": "python"
    }
  },
  "cells": [
    {
      "cell_type": "markdown",
      "metadata": {
        "id": "view-in-github",
        "colab_type": "text"
      },
      "source": [
        "<a href=\"https://colab.research.google.com/github/Tatianacp1/MineriaDatos/blob/main/Taller1mineria.ipynb\" target=\"_parent\"><img src=\"https://colab.research.google.com/assets/colab-badge.svg\" alt=\"Open In Colab\"/></a>"
      ]
    },
    {
      "cell_type": "markdown",
      "source": [
        "**TALLER 1 MINERÍA DE DATOS PYTHON**\n",
        "\n",
        "\n",
        "*   Tatiana Chavez Perez\n"
      ],
      "metadata": {
        "id": "Y-HSwIWtkhrc"
      }
    },
    {
      "cell_type": "markdown",
      "source": [
        "Ejercicio 1:\n",
        "Cree una función que transforme grados Fahrenheit a grados centígrados"
      ],
      "metadata": {
        "id": "tZvVgKRbkwRh"
      }
    },
    {
      "cell_type": "code",
      "source": [
        "def temp():\n",
        "  x=int(input('Ingrese una temperatura en Fahrenheit: '))\n",
        "  print('La temperatura en grados centígrados es de: ', 5/9*(x-32))"
      ],
      "metadata": {
        "id": "Y51vdtGHkvuh"
      },
      "execution_count": null,
      "outputs": []
    },
    {
      "cell_type": "code",
      "source": [
        "temp()"
      ],
      "metadata": {
        "colab": {
          "base_uri": "https://localhost:8080/"
        },
        "id": "a4fSuYLym_DZ",
        "outputId": "cf557589-65f7-4f30-fb6f-c456cd971def"
      },
      "execution_count": null,
      "outputs": [
        {
          "output_type": "stream",
          "name": "stdout",
          "text": [
            "Ingrese una temperatura en Fahrenheit: 60\n",
            "La temperatura en grados centígrados es de:  15.555555555555557\n"
          ]
        }
      ]
    },
    {
      "cell_type": "code",
      "source": [
        "temp()"
      ],
      "metadata": {
        "colab": {
          "base_uri": "https://localhost:8080/"
        },
        "id": "A_Z-aZ70m_JR",
        "outputId": "ad8f5070-5763-4b93-d291-f9cac2b298ea"
      },
      "execution_count": null,
      "outputs": [
        {
          "output_type": "stream",
          "name": "stdout",
          "text": [
            "Ingrese una temperatura en Fahrenheit: -10\n",
            "La temperatura en grados centígrados es de:  -23.333333333333336\n"
          ]
        }
      ]
    },
    {
      "cell_type": "markdown",
      "source": [
        "Ejercicio 2:\n",
        "Escribir un programa que almacene la cadena de caracteres *contraseña* en una variable,\n",
        "pregunte al usuario por la contraseña e imprima por pantalla si el valor es correcto o no en función\n",
        "de los siguientes aspectos:\n",
        "1. Falta al menos un carácter numérico\n",
        "2. Falta al menos uno de los siguientes carácter especiales : *, _ , !, $, %\n",
        "3. Falta al menos una mayúscula"
      ],
      "metadata": {
        "id": "Yjto3-0TlO5n"
      }
    },
    {
      "cell_type": "code",
      "source": [
        "def contraseña():\n",
        "  n = ['1','2','3','4','5','6','7','8','9','0']\n",
        "  s = ['*','_' , '!', '$', '%']\n",
        "  x = input('Escriba su contraseña: ')\n",
        "  a = 0; b = 0; c=0\n",
        "  for i in range(0,len(x)):\n",
        "    for j in range(0,len(n)):\n",
        "      a = a + (x[i]==n[j])\n",
        "    for j in range(0,len(s)):\n",
        "      b = b + (x[i]==s[j])\n",
        "    for j in range(0,len(x)):\n",
        "      c = c + (x[j].isupper())*1\n",
        "  i=+1\n",
        "  if a == 0:\n",
        "    print('La contraseña debe tener al menos un carácter numérico')\n",
        "  if b == 0:         \n",
        "    print('La contraseña debe tener al menos uno de los siguientes carácter especiales : *, _ , !, $, %')\n",
        "  if c == 0:         \n",
        "    print('La contraseña debe tener al menos una mayúscula')\n",
        "  else:\n",
        "     print('La contraseña es correcta, se ha guardado')"
      ],
      "metadata": {
        "id": "dG6ccLpOlSM1"
      },
      "execution_count": null,
      "outputs": []
    },
    {
      "cell_type": "code",
      "source": [
        "contraseña()"
      ],
      "metadata": {
        "colab": {
          "base_uri": "https://localhost:8080/"
        },
        "id": "RCwfqHE70EZ6",
        "outputId": "7eec1fec-7a08-48ad-e7be-469895d3f224"
      },
      "execution_count": null,
      "outputs": [
        {
          "output_type": "stream",
          "name": "stdout",
          "text": [
            "Escriba su contraseña: aaa\n",
            "La contraseña debe tener al menos un carácter numérico\n",
            "La contraseña debe tener al menos uno de los siguientes carácter especiales : *, _ , !, $, %\n",
            "La contraseña debe tener al menos una mayúscula\n"
          ]
        }
      ]
    },
    {
      "cell_type": "code",
      "source": [
        "contraseña()\n"
      ],
      "metadata": {
        "colab": {
          "base_uri": "https://localhost:8080/"
        },
        "id": "jwNGpRCZuQ6V",
        "outputId": "93d249a1-b31a-4794-ebd9-5cc3b1d3e00e"
      },
      "execution_count": null,
      "outputs": [
        {
          "output_type": "stream",
          "name": "stdout",
          "text": [
            "Escriba su contraseña: 1aaaa\n",
            "La contraseña debe tener al menos uno de los siguientes carácter especiales : *, _ , !, $, %\n",
            "La contraseña debe tener al menos una mayúscula\n"
          ]
        }
      ]
    },
    {
      "cell_type": "code",
      "source": [
        "contraseña()"
      ],
      "metadata": {
        "colab": {
          "base_uri": "https://localhost:8080/"
        },
        "id": "FS1CxCMsMyYp",
        "outputId": "15de45b3-eae2-4591-a2a8-6b0867668a0d"
      },
      "execution_count": null,
      "outputs": [
        {
          "output_type": "stream",
          "name": "stdout",
          "text": [
            "Escriba su contraseña: 1aaa*\n",
            "La contraseña debe tener al menos una mayúscula\n"
          ]
        }
      ]
    },
    {
      "cell_type": "code",
      "source": [
        "contraseña()\n"
      ],
      "metadata": {
        "colab": {
          "base_uri": "https://localhost:8080/"
        },
        "id": "VKI9cY-1vqgq",
        "outputId": "4af7151b-f8b2-4e27-ee78-ee634af0172f"
      },
      "execution_count": null,
      "outputs": [
        {
          "output_type": "stream",
          "name": "stdout",
          "text": [
            "Escriba su contraseña: Aaaaa1*\n",
            "La contraseña es correcta\n"
          ]
        }
      ]
    },
    {
      "cell_type": "markdown",
      "source": [
        "Ejercicio 3:\n",
        "Laura y Sebastián vieron una promoción en Buscalibre dónde por la compra de 2 libros te llevas el\n",
        "tercero de menor valor. Ellos quieren analizar si hay una forma de adquirir 6 libros en dónde\n",
        "puedan sacar la mayor ganancia posible. Las opciones de libros son los siguientes:\n",
        "* Libro 1 por $50.000\n",
        "\n",
        "* Libro 2 por $30.000\n",
        "\n",
        "* Libro 3 por $80.000\n",
        "\n",
        "* Libro 4 por $20.000\n",
        "\n",
        "* Libro 5 por $100.000\n",
        "\n",
        "* Libro 6 por $40.000\n",
        "\n",
        "Escriba un programa que arroje cual debería ser la combinación de libros adecuada para ahorrar lo máximo posible.\n",
        "Ejemplo de Salida:\n",
        "* Combinación de libros 1: Libro 1, 4 y 6.\n",
        "*Combinación de libros 2: Libro 2, 3, 5.\n",
        "*Total de dinero ahorrado: “Total de libros” – “Descuento de promoción”."
      ],
      "metadata": {
        "id": "1bzfiUjOleUq"
      }
    },
    {
      "cell_type": "markdown",
      "source": [
        "* Va a comprar 4 libros para que tengan 2 gratis\n",
        "Combinación de libros entre todos los libros, sin reemplazo \n",
        "Al final debería arrojar las combinaciones y el descuento que se ahorro.\n"
      ],
      "metadata": {
        "id": "h-OauTjpXOc1"
      }
    },
    {
      "cell_type": "code",
      "source": [
        "import pandas as pd\n",
        "import numpy as np\n",
        "from itertools import combinations"
      ],
      "metadata": {
        "id": "7rOooJkYzkej"
      },
      "execution_count": null,
      "outputs": []
    },
    {
      "cell_type": "code",
      "source": [
        "ser = pd.Series([50000, 30000, 80000, 20000, 100000, 40000], index=['Libro 1', 'Libro 2', 'Libro 3', 'Libro 4', 'Libro 5','Libro 6'])\n",
        "from itertools import combinations, permutations\n",
        "a = list(combinations(ser, 3))\n",
        "des = 0\n",
        "comb = np.empty((20,4))\n",
        "j=0\n",
        "i=0\n",
        "for j in range(3):\n",
        "  for i in range(len(a)):\n",
        "    comb[i,0] = a[i][0]\n",
        "    comb[i,1] = a[i][1]\n",
        "    comb[i,2] = a[i][2]\n",
        "    comb[i,3] = np.array(a[i]).sum()\n",
        "desc = pd.DataFrame(comb,columns=['Libro 1', 'Libro 2', 'Libro 3','Valor'])\n",
        "desc = desc.sort_values('Valor') \n",
        "print(desc)\n",
        "print('- Combinación de libros 1:',desc.iloc[0][0],',',desc.iloc[0][1],',',desc.iloc[0][2])\n",
        "print('- Combinación de libros 2:',desc.iloc[1][0],',',desc.iloc[1][1],',',desc.iloc[1][2])\n",
        "print('- Total de dinero ahorrado:', (desc.iloc[0].min())+(desc.iloc[1].min()))"
      ],
      "metadata": {
        "colab": {
          "base_uri": "https://localhost:8080/"
        },
        "id": "a_hgvxPURkWp",
        "outputId": "140998b0-34f4-4c9d-f152-6fdd6f72e94b"
      },
      "execution_count": null,
      "outputs": [
        {
          "output_type": "stream",
          "name": "stdout",
          "text": [
            "    Libro 1   Libro 2   Libro 3     Valor\n",
            "14  30000.0   20000.0   40000.0   90000.0\n",
            "1   50000.0   30000.0   20000.0  100000.0\n",
            "8   50000.0   20000.0   40000.0  110000.0\n",
            "3   50000.0   30000.0   40000.0  120000.0\n",
            "10  30000.0   80000.0   20000.0  130000.0\n",
            "17  80000.0   20000.0   40000.0  140000.0\n",
            "4   50000.0   80000.0   20000.0  150000.0\n",
            "13  30000.0   20000.0  100000.0  150000.0\n",
            "12  30000.0   80000.0   40000.0  150000.0\n",
            "0   50000.0   30000.0   80000.0  160000.0\n",
            "19  20000.0  100000.0   40000.0  160000.0\n",
            "7   50000.0   20000.0  100000.0  170000.0\n",
            "6   50000.0   80000.0   40000.0  170000.0\n",
            "15  30000.0  100000.0   40000.0  170000.0\n",
            "2   50000.0   30000.0  100000.0  180000.0\n",
            "9   50000.0  100000.0   40000.0  190000.0\n",
            "16  80000.0   20000.0  100000.0  200000.0\n",
            "11  30000.0   80000.0  100000.0  210000.0\n",
            "18  80000.0  100000.0   40000.0  220000.0\n",
            "5   50000.0   80000.0  100000.0  230000.0\n",
            "- Combinación de libros 1: 30000.0 , 20000.0 , 40000.0\n",
            "- Combinación de libros 2: 50000.0 , 30000.0 , 20000.0\n",
            "- Total de dinero ahorrado: 40000.0\n"
          ]
        }
      ]
    }
  ]
}